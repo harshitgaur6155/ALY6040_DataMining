{
 "cells": [
  {
   "cell_type": "code",
   "execution_count": 166,
   "id": "17de439a",
   "metadata": {},
   "outputs": [],
   "source": [
    "import pandas as pd\n",
    "import numpy as np\n",
    "import seaborn as sns\n",
    "import json\n",
    "import datetime\n",
    "import matplotlib.pyplot as plt\n",
    "pd.set_option('display.max_columns', 40)"
   ]
  },
  {
   "cell_type": "code",
   "execution_count": 167,
   "id": "7fceee63",
   "metadata": {},
   "outputs": [],
   "source": [
    "# Label Encoding and One-Hot Encoding Libraries\n",
    "from sklearn.preprocessing import OneHotEncoder\n",
    "\n",
    "from sklearn.model_selection import train_test_split\n",
    "\n",
    "# Decision Tree Classifier\n",
    "from sklearn.tree import DecisionTreeClassifier\n",
    "\n",
    "# Metrics for understanding the model's performance\n",
    "from sklearn.metrics import accuracy_score, precision_score, recall_score, f1_score, confusion_matrix, classification_report"
   ]
  },
  {
   "cell_type": "code",
   "execution_count": 168,
   "id": "41abcf1a",
   "metadata": {},
   "outputs": [],
   "source": [
    "movie_df = pd.read_csv('/Users/HarshitGaur/Documents/Northeastern University/MPS Analytics/ALY 6040/Quiz/Oscar_2000_2018.csv')"
   ]
  },
  {
   "cell_type": "code",
   "execution_count": 169,
   "id": "fb7438d2",
   "metadata": {},
   "outputs": [
    {
     "data": {
      "text/html": [
       "<div>\n",
       "<style scoped>\n",
       "    .dataframe tbody tr th:only-of-type {\n",
       "        vertical-align: middle;\n",
       "    }\n",
       "\n",
       "    .dataframe tbody tr th {\n",
       "        vertical-align: top;\n",
       "    }\n",
       "\n",
       "    .dataframe thead th {\n",
       "        text-align: right;\n",
       "    }\n",
       "</style>\n",
       "<table border=\"1\" class=\"dataframe\">\n",
       "  <thead>\n",
       "    <tr style=\"text-align: right;\">\n",
       "      <th></th>\n",
       "      <th>year</th>\n",
       "      <th>movie</th>\n",
       "      <th>movie_id</th>\n",
       "      <th>certificate</th>\n",
       "      <th>duration</th>\n",
       "      <th>genre</th>\n",
       "      <th>rate</th>\n",
       "      <th>metascore</th>\n",
       "      <th>synopsis</th>\n",
       "      <th>votes</th>\n",
       "      <th>gross</th>\n",
       "      <th>release_date</th>\n",
       "      <th>user_reviews</th>\n",
       "      <th>critic_reviews</th>\n",
       "      <th>popularity</th>\n",
       "      <th>awards_wins</th>\n",
       "      <th>awards_nominations</th>\n",
       "      <th>Oscar_Best_Picture_won</th>\n",
       "      <th>Oscar_Best_Picture_nominated</th>\n",
       "      <th>Oscar_Best_Director_won</th>\n",
       "      <th>...</th>\n",
       "      <th>Denver_Film_Critics_Society_won</th>\n",
       "      <th>Denver_Film_Critics_Society_won_categories</th>\n",
       "      <th>Denver_Film_Critics_Society_nominated</th>\n",
       "      <th>Denver_Film_Critics_Society_nominated_categories</th>\n",
       "      <th>Boston_Society_of_Film_Critics_won</th>\n",
       "      <th>Boston_Society_of_Film_Critics_won_categories</th>\n",
       "      <th>Boston_Society_of_Film_Critics_nominated</th>\n",
       "      <th>Boston_Society_of_Film_Critics_nominated_categories</th>\n",
       "      <th>New_York_Film_Critics_Circle_won</th>\n",
       "      <th>New_York_Film_Critics_Circle_won_categories</th>\n",
       "      <th>New_York_Film_Critics_Circle_nominated</th>\n",
       "      <th>New_York_Film_Critics_Circle_nominated_categories</th>\n",
       "      <th>Los_Angeles_Film_Critics_Association_won</th>\n",
       "      <th>Los_Angeles_Film_Critics_Association_won_categories</th>\n",
       "      <th>Los_Angeles_Film_Critics_Association_nominated</th>\n",
       "      <th>Los_Angeles_Film_Critics_Association_nominated_categories</th>\n",
       "      <th>release_date.year</th>\n",
       "      <th>release_date.month</th>\n",
       "      <th>release_date.day-of-month</th>\n",
       "      <th>release_date.day-of-week</th>\n",
       "    </tr>\n",
       "  </thead>\n",
       "  <tbody>\n",
       "    <tr>\n",
       "      <th>0</th>\n",
       "      <td>2001</td>\n",
       "      <td>Kate &amp; Leopold</td>\n",
       "      <td>tt0035423</td>\n",
       "      <td>PG-13</td>\n",
       "      <td>118</td>\n",
       "      <td>Comedy|Fantasy|Romance</td>\n",
       "      <td>6.4</td>\n",
       "      <td>44.0</td>\n",
       "      <td>An English Duke from 1876 is inadvertedly drag...</td>\n",
       "      <td>66660</td>\n",
       "      <td>47100000.0</td>\n",
       "      <td>2001-12-25</td>\n",
       "      <td>318.0</td>\n",
       "      <td>125.0</td>\n",
       "      <td>2363.0</td>\n",
       "      <td>1</td>\n",
       "      <td>4</td>\n",
       "      <td>No</td>\n",
       "      <td>No</td>\n",
       "      <td>No</td>\n",
       "      <td>...</td>\n",
       "      <td>0</td>\n",
       "      <td>NaN</td>\n",
       "      <td>0</td>\n",
       "      <td>NaN</td>\n",
       "      <td>0</td>\n",
       "      <td>NaN</td>\n",
       "      <td>0</td>\n",
       "      <td>NaN</td>\n",
       "      <td>0</td>\n",
       "      <td>NaN</td>\n",
       "      <td>0</td>\n",
       "      <td>NaN</td>\n",
       "      <td>0</td>\n",
       "      <td>NaN</td>\n",
       "      <td>0</td>\n",
       "      <td>NaN</td>\n",
       "      <td>2001.0</td>\n",
       "      <td>12.0</td>\n",
       "      <td>25.0</td>\n",
       "      <td>2.0</td>\n",
       "    </tr>\n",
       "    <tr>\n",
       "      <th>1</th>\n",
       "      <td>2000</td>\n",
       "      <td>Chicken Run</td>\n",
       "      <td>tt0120630</td>\n",
       "      <td>G</td>\n",
       "      <td>84</td>\n",
       "      <td>Animation|Adventure|Comedy</td>\n",
       "      <td>7.0</td>\n",
       "      <td>88.0</td>\n",
       "      <td>When a cockerel apparently flies into a chicke...</td>\n",
       "      <td>144475</td>\n",
       "      <td>106790000.0</td>\n",
       "      <td>2000-06-23</td>\n",
       "      <td>361.0</td>\n",
       "      <td>186.0</td>\n",
       "      <td>2859.0</td>\n",
       "      <td>5</td>\n",
       "      <td>11</td>\n",
       "      <td>No</td>\n",
       "      <td>No</td>\n",
       "      <td>No</td>\n",
       "      <td>...</td>\n",
       "      <td>0</td>\n",
       "      <td>NaN</td>\n",
       "      <td>0</td>\n",
       "      <td>NaN</td>\n",
       "      <td>0</td>\n",
       "      <td>NaN</td>\n",
       "      <td>0</td>\n",
       "      <td>NaN</td>\n",
       "      <td>1</td>\n",
       "      <td>Best Animated Film</td>\n",
       "      <td>1</td>\n",
       "      <td>Best Animated Film</td>\n",
       "      <td>1</td>\n",
       "      <td>Best Animation</td>\n",
       "      <td>1</td>\n",
       "      <td>Best Animation</td>\n",
       "      <td>2000.0</td>\n",
       "      <td>6.0</td>\n",
       "      <td>23.0</td>\n",
       "      <td>5.0</td>\n",
       "    </tr>\n",
       "    <tr>\n",
       "      <th>2</th>\n",
       "      <td>2005</td>\n",
       "      <td>Fantastic Four</td>\n",
       "      <td>tt0120667</td>\n",
       "      <td>PG-13</td>\n",
       "      <td>106</td>\n",
       "      <td>Action|Adventure|Family</td>\n",
       "      <td>5.7</td>\n",
       "      <td>40.0</td>\n",
       "      <td>A group of astronauts gain superpowers after a...</td>\n",
       "      <td>273203</td>\n",
       "      <td>154700000.0</td>\n",
       "      <td>2005-07-08</td>\n",
       "      <td>1008.0</td>\n",
       "      <td>278.0</td>\n",
       "      <td>1876.0</td>\n",
       "      <td>0</td>\n",
       "      <td>0</td>\n",
       "      <td>No</td>\n",
       "      <td>No</td>\n",
       "      <td>No</td>\n",
       "      <td>...</td>\n",
       "      <td>0</td>\n",
       "      <td>NaN</td>\n",
       "      <td>0</td>\n",
       "      <td>NaN</td>\n",
       "      <td>0</td>\n",
       "      <td>NaN</td>\n",
       "      <td>0</td>\n",
       "      <td>NaN</td>\n",
       "      <td>0</td>\n",
       "      <td>NaN</td>\n",
       "      <td>0</td>\n",
       "      <td>NaN</td>\n",
       "      <td>0</td>\n",
       "      <td>NaN</td>\n",
       "      <td>0</td>\n",
       "      <td>NaN</td>\n",
       "      <td>2005.0</td>\n",
       "      <td>7.0</td>\n",
       "      <td>8.0</td>\n",
       "      <td>5.0</td>\n",
       "    </tr>\n",
       "    <tr>\n",
       "      <th>3</th>\n",
       "      <td>2002</td>\n",
       "      <td>Frida</td>\n",
       "      <td>tt0120679</td>\n",
       "      <td>R</td>\n",
       "      <td>123</td>\n",
       "      <td>Biography|Drama|Romance</td>\n",
       "      <td>7.4</td>\n",
       "      <td>61.0</td>\n",
       "      <td>A biography of artist Frida Kahlo, who channel...</td>\n",
       "      <td>63852</td>\n",
       "      <td>25780000.0</td>\n",
       "      <td>2002-11-22</td>\n",
       "      <td>272.0</td>\n",
       "      <td>126.0</td>\n",
       "      <td>2508.0</td>\n",
       "      <td>2</td>\n",
       "      <td>12</td>\n",
       "      <td>No</td>\n",
       "      <td>No</td>\n",
       "      <td>No</td>\n",
       "      <td>...</td>\n",
       "      <td>0</td>\n",
       "      <td>NaN</td>\n",
       "      <td>0</td>\n",
       "      <td>NaN</td>\n",
       "      <td>0</td>\n",
       "      <td>NaN</td>\n",
       "      <td>0</td>\n",
       "      <td>NaN</td>\n",
       "      <td>0</td>\n",
       "      <td>NaN</td>\n",
       "      <td>0</td>\n",
       "      <td>NaN</td>\n",
       "      <td>0</td>\n",
       "      <td>NaN</td>\n",
       "      <td>0</td>\n",
       "      <td>NaN</td>\n",
       "      <td>2002.0</td>\n",
       "      <td>11.0</td>\n",
       "      <td>22.0</td>\n",
       "      <td>5.0</td>\n",
       "    </tr>\n",
       "    <tr>\n",
       "      <th>4</th>\n",
       "      <td>2001</td>\n",
       "      <td>The Lord of the Rings: The Fellowship of the Ring</td>\n",
       "      <td>tt0120737</td>\n",
       "      <td>PG-13</td>\n",
       "      <td>178</td>\n",
       "      <td>Adventure|Drama|Fantasy</td>\n",
       "      <td>8.8</td>\n",
       "      <td>92.0</td>\n",
       "      <td>A meek Hobbit from the Shire and eight compani...</td>\n",
       "      <td>1286275</td>\n",
       "      <td>313840000.0</td>\n",
       "      <td>2001-12-19</td>\n",
       "      <td>5078.0</td>\n",
       "      <td>296.0</td>\n",
       "      <td>204.0</td>\n",
       "      <td>26</td>\n",
       "      <td>67</td>\n",
       "      <td>No</td>\n",
       "      <td>Yes</td>\n",
       "      <td>No</td>\n",
       "      <td>...</td>\n",
       "      <td>0</td>\n",
       "      <td>NaN</td>\n",
       "      <td>0</td>\n",
       "      <td>NaN</td>\n",
       "      <td>0</td>\n",
       "      <td>NaN</td>\n",
       "      <td>1</td>\n",
       "      <td>Best Director</td>\n",
       "      <td>0</td>\n",
       "      <td>NaN</td>\n",
       "      <td>0</td>\n",
       "      <td>NaN</td>\n",
       "      <td>1</td>\n",
       "      <td>Best Music</td>\n",
       "      <td>2</td>\n",
       "      <td>Best Music|Best Production Design</td>\n",
       "      <td>2001.0</td>\n",
       "      <td>12.0</td>\n",
       "      <td>19.0</td>\n",
       "      <td>3.0</td>\n",
       "    </tr>\n",
       "  </tbody>\n",
       "</table>\n",
       "<p>5 rows × 119 columns</p>\n",
       "</div>"
      ],
      "text/plain": [
       "   year                                              movie   movie_id  \\\n",
       "0  2001                                     Kate & Leopold  tt0035423   \n",
       "1  2000                                        Chicken Run  tt0120630   \n",
       "2  2005                                     Fantastic Four  tt0120667   \n",
       "3  2002                                              Frida  tt0120679   \n",
       "4  2001  The Lord of the Rings: The Fellowship of the Ring  tt0120737   \n",
       "\n",
       "  certificate  duration                       genre  rate  metascore  \\\n",
       "0       PG-13       118      Comedy|Fantasy|Romance   6.4       44.0   \n",
       "1           G        84  Animation|Adventure|Comedy   7.0       88.0   \n",
       "2       PG-13       106     Action|Adventure|Family   5.7       40.0   \n",
       "3           R       123     Biography|Drama|Romance   7.4       61.0   \n",
       "4       PG-13       178     Adventure|Drama|Fantasy   8.8       92.0   \n",
       "\n",
       "                                            synopsis    votes        gross  \\\n",
       "0  An English Duke from 1876 is inadvertedly drag...    66660   47100000.0   \n",
       "1  When a cockerel apparently flies into a chicke...   144475  106790000.0   \n",
       "2  A group of astronauts gain superpowers after a...   273203  154700000.0   \n",
       "3  A biography of artist Frida Kahlo, who channel...    63852   25780000.0   \n",
       "4  A meek Hobbit from the Shire and eight compani...  1286275  313840000.0   \n",
       "\n",
       "  release_date  user_reviews  critic_reviews  popularity  awards_wins  \\\n",
       "0   2001-12-25         318.0           125.0      2363.0            1   \n",
       "1   2000-06-23         361.0           186.0      2859.0            5   \n",
       "2   2005-07-08        1008.0           278.0      1876.0            0   \n",
       "3   2002-11-22         272.0           126.0      2508.0            2   \n",
       "4   2001-12-19        5078.0           296.0       204.0           26   \n",
       "\n",
       "   awards_nominations Oscar_Best_Picture_won Oscar_Best_Picture_nominated  \\\n",
       "0                   4                     No                           No   \n",
       "1                  11                     No                           No   \n",
       "2                   0                     No                           No   \n",
       "3                  12                     No                           No   \n",
       "4                  67                     No                          Yes   \n",
       "\n",
       "  Oscar_Best_Director_won  ... Denver_Film_Critics_Society_won  \\\n",
       "0                      No  ...                               0   \n",
       "1                      No  ...                               0   \n",
       "2                      No  ...                               0   \n",
       "3                      No  ...                               0   \n",
       "4                      No  ...                               0   \n",
       "\n",
       "  Denver_Film_Critics_Society_won_categories  \\\n",
       "0                                        NaN   \n",
       "1                                        NaN   \n",
       "2                                        NaN   \n",
       "3                                        NaN   \n",
       "4                                        NaN   \n",
       "\n",
       "  Denver_Film_Critics_Society_nominated  \\\n",
       "0                                     0   \n",
       "1                                     0   \n",
       "2                                     0   \n",
       "3                                     0   \n",
       "4                                     0   \n",
       "\n",
       "  Denver_Film_Critics_Society_nominated_categories  \\\n",
       "0                                              NaN   \n",
       "1                                              NaN   \n",
       "2                                              NaN   \n",
       "3                                              NaN   \n",
       "4                                              NaN   \n",
       "\n",
       "  Boston_Society_of_Film_Critics_won  \\\n",
       "0                                  0   \n",
       "1                                  0   \n",
       "2                                  0   \n",
       "3                                  0   \n",
       "4                                  0   \n",
       "\n",
       "  Boston_Society_of_Film_Critics_won_categories  \\\n",
       "0                                           NaN   \n",
       "1                                           NaN   \n",
       "2                                           NaN   \n",
       "3                                           NaN   \n",
       "4                                           NaN   \n",
       "\n",
       "  Boston_Society_of_Film_Critics_nominated  \\\n",
       "0                                        0   \n",
       "1                                        0   \n",
       "2                                        0   \n",
       "3                                        0   \n",
       "4                                        1   \n",
       "\n",
       "  Boston_Society_of_Film_Critics_nominated_categories  \\\n",
       "0                                                NaN    \n",
       "1                                                NaN    \n",
       "2                                                NaN    \n",
       "3                                                NaN    \n",
       "4                                      Best Director    \n",
       "\n",
       "  New_York_Film_Critics_Circle_won  \\\n",
       "0                                0   \n",
       "1                                1   \n",
       "2                                0   \n",
       "3                                0   \n",
       "4                                0   \n",
       "\n",
       "  New_York_Film_Critics_Circle_won_categories  \\\n",
       "0                                         NaN   \n",
       "1                          Best Animated Film   \n",
       "2                                         NaN   \n",
       "3                                         NaN   \n",
       "4                                         NaN   \n",
       "\n",
       "  New_York_Film_Critics_Circle_nominated  \\\n",
       "0                                      0   \n",
       "1                                      1   \n",
       "2                                      0   \n",
       "3                                      0   \n",
       "4                                      0   \n",
       "\n",
       "  New_York_Film_Critics_Circle_nominated_categories  \\\n",
       "0                                               NaN   \n",
       "1                                Best Animated Film   \n",
       "2                                               NaN   \n",
       "3                                               NaN   \n",
       "4                                               NaN   \n",
       "\n",
       "  Los_Angeles_Film_Critics_Association_won  \\\n",
       "0                                        0   \n",
       "1                                        1   \n",
       "2                                        0   \n",
       "3                                        0   \n",
       "4                                        1   \n",
       "\n",
       "   Los_Angeles_Film_Critics_Association_won_categories  \\\n",
       "0                                                NaN     \n",
       "1                                     Best Animation     \n",
       "2                                                NaN     \n",
       "3                                                NaN     \n",
       "4                                         Best Music     \n",
       "\n",
       "  Los_Angeles_Film_Critics_Association_nominated  \\\n",
       "0                                              0   \n",
       "1                                              1   \n",
       "2                                              0   \n",
       "3                                              0   \n",
       "4                                              2   \n",
       "\n",
       "   Los_Angeles_Film_Critics_Association_nominated_categories  \\\n",
       "0                                                NaN           \n",
       "1                                     Best Animation           \n",
       "2                                                NaN           \n",
       "3                                                NaN           \n",
       "4                  Best Music|Best Production Design           \n",
       "\n",
       "  release_date.year  release_date.month release_date.day-of-month  \\\n",
       "0            2001.0                12.0                      25.0   \n",
       "1            2000.0                 6.0                      23.0   \n",
       "2            2005.0                 7.0                       8.0   \n",
       "3            2002.0                11.0                      22.0   \n",
       "4            2001.0                12.0                      19.0   \n",
       "\n",
       "   release_date.day-of-week  \n",
       "0                       2.0  \n",
       "1                       5.0  \n",
       "2                       5.0  \n",
       "3                       5.0  \n",
       "4                       3.0  \n",
       "\n",
       "[5 rows x 119 columns]"
      ]
     },
     "execution_count": 169,
     "metadata": {},
     "output_type": "execute_result"
    }
   ],
   "source": [
    "movie_df.head(5)"
   ]
  },
  {
   "cell_type": "code",
   "execution_count": 170,
   "id": "6add5664",
   "metadata": {},
   "outputs": [
    {
     "data": {
      "text/plain": [
       "year                                                           int64\n",
       "movie                                                         object\n",
       "movie_id                                                      object\n",
       "certificate                                                   object\n",
       "duration                                                       int64\n",
       "                                                              ...   \n",
       "Los_Angeles_Film_Critics_Association_nominated_categories     object\n",
       "release_date.year                                            float64\n",
       "release_date.month                                           float64\n",
       "release_date.day-of-month                                    float64\n",
       "release_date.day-of-week                                     float64\n",
       "Length: 119, dtype: object"
      ]
     },
     "execution_count": 170,
     "metadata": {},
     "output_type": "execute_result"
    }
   ],
   "source": [
    "movie_df.dtypes"
   ]
  },
  {
   "cell_type": "code",
   "execution_count": 171,
   "id": "451ac9b7",
   "metadata": {},
   "outputs": [
    {
     "data": {
      "text/plain": [
       "year  movie                                          \n",
       "2000  Gladiator                                          1\n",
       "2001  A Beautiful Mind                                   1\n",
       "2016  Moonlight                                          1\n",
       "2015  Spotlight                                          1\n",
       "2014  Birdman or (The Unexpected Virtue of Ignorance)    1\n",
       "2013  12 Years a Slave                                   1\n",
       "2012  Argo                                               1\n",
       "2011  The Artist                                         1\n",
       "2010  The King's Speech                                  1\n",
       "2008  The Hurt Locker                                    1\n",
       "      Slumdog Millionaire                                1\n",
       "2007  No Country for Old Men                             1\n",
       "2006  The Departed                                       1\n",
       "2004  Million Dollar Baby                                1\n",
       "      Crash                                              1\n",
       "2003  The Lord of the Rings: The Return of the King      1\n",
       "2002  Chicago                                            1\n",
       "2017  The Shape of Water                                 1\n",
       "dtype: int64"
      ]
     },
     "execution_count": 171,
     "metadata": {},
     "output_type": "execute_result"
    }
   ],
   "source": [
    "movie_df[movie_df['Oscar_Best_Picture_won'] == 'Yes'][['year','movie']].value_counts()"
   ]
  },
  {
   "cell_type": "code",
   "execution_count": 172,
   "id": "780e3619",
   "metadata": {},
   "outputs": [
    {
     "name": "stdout",
     "output_type": "stream",
     "text": [
      "<class 'pandas.core.frame.DataFrame'>\n",
      "RangeIndex: 1235 entries, 0 to 1234\n",
      "Columns: 119 entries, year to release_date.day-of-week\n",
      "dtypes: float64(10), int64(46), object(63)\n",
      "memory usage: 1.1+ MB\n"
     ]
    }
   ],
   "source": [
    "movie_df.info()"
   ]
  },
  {
   "cell_type": "markdown",
   "id": "5a72db56",
   "metadata": {},
   "source": [
    "## Part 1: EDA"
   ]
  },
  {
   "cell_type": "markdown",
   "id": "5bc820c3",
   "metadata": {},
   "source": [
    "#### Q1. Scatterplot"
   ]
  },
  {
   "cell_type": "markdown",
   "id": "7b7a13ff",
   "metadata": {},
   "source": [
    "Displaying a Scatter Plot to show the relationship between users' reviews and critics' reviews of each movie (data points) present in the data set."
   ]
  },
  {
   "cell_type": "code",
   "execution_count": 173,
   "id": "19ae9980",
   "metadata": {},
   "outputs": [
    {
     "data": {
      "image/png": "[encoded data removed]",
      "text/plain": [
       "<Figure size 1080x432 with 1 Axes>"
      ]
     },
     "metadata": {},
     "output_type": "display_data"
    }
   ],
   "source": [
    "sns.scatterplot(data = movie_df, x = \"user_reviews\", y = \"critic_reviews\", hue = \"certificate\")\n",
    "plt.show()"
   ]
  },
  {
   "cell_type": "markdown",
   "id": "a8fef291",
   "metadata": {},
   "source": [
    "From the above plot, we can find that there is kind of a linear relationship between users' reviews and critics' reviews. \n",
    "If we distinguish this distribution on basis of \"certificate\" of the movies, we can find some insights that \"PG-13\" and \"R\" certified movies have recieved more reviews from both parties."
   ]
  },
  {
   "cell_type": "markdown",
   "id": "29556eaa",
   "metadata": {},
   "source": [
    "##### Pearson's Correlation Coefficient "
   ]
  },
  {
   "cell_type": "code",
   "execution_count": 174,
   "id": "87bf5fc9",
   "metadata": {},
   "outputs": [
    {
     "name": "stdout",
     "output_type": "stream",
     "text": [
      "Pearson's Correlation Coefficient between Users' Reviews and Critics' Reviews :\n",
      "0.4958437616066603\n"
     ]
    }
   ],
   "source": [
    "correlation = movie_df[['user_reviews', 'critic_reviews']].corr()\n",
    "\n",
    "print(\"Pearson's Correlation Coefficient between Users' Reviews and Critics' Reviews :\")\n",
    "print(correlation.loc['user_reviews', 'critic_reviews'])"
   ]
  },
  {
   "cell_type": "markdown",
   "id": "4d88466c",
   "metadata": {},
   "source": [
    " "
   ]
  },
  {
   "cell_type": "markdown",
   "id": "a71d7220",
   "metadata": {},
   "source": [
    "#### Q2. Average Duration vs. Certificate "
   ]
  },
  {
   "cell_type": "code",
   "execution_count": 175,
   "id": "93d76ae6",
   "metadata": {},
   "outputs": [],
   "source": [
    "avgDuration_certificate = movie_df.groupby('certificate', as_index = False)['duration'].mean().rename(columns={'duration':'average_duration'})"
   ]
  },
  {
   "cell_type": "code",
   "execution_count": 176,
   "id": "b794a5df",
   "metadata": {},
   "outputs": [
    {
     "data": {
      "text/html": [
       "<div>\n",
       "<style scoped>\n",
       "    .dataframe tbody tr th:only-of-type {\n",
       "        vertical-align: middle;\n",
       "    }\n",
       "\n",
       "    .dataframe tbody tr th {\n",
       "        vertical-align: top;\n",
       "    }\n",
       "\n",
       "    .dataframe thead th {\n",
       "        text-align: right;\n",
       "    }\n",
       "</style>\n",
       "<table border=\"1\" class=\"dataframe\">\n",
       "  <thead>\n",
       "    <tr style=\"text-align: right;\">\n",
       "      <th></th>\n",
       "      <th>certificate</th>\n",
       "      <th>average_duration</th>\n",
       "    </tr>\n",
       "  </thead>\n",
       "  <tbody>\n",
       "    <tr>\n",
       "      <th>0</th>\n",
       "      <td>G</td>\n",
       "      <td>93.14</td>\n",
       "    </tr>\n",
       "    <tr>\n",
       "      <th>1</th>\n",
       "      <td>Not Rated</td>\n",
       "      <td>105.64</td>\n",
       "    </tr>\n",
       "    <tr>\n",
       "      <th>2</th>\n",
       "      <td>PG</td>\n",
       "      <td>105.74</td>\n",
       "    </tr>\n",
       "    <tr>\n",
       "      <th>3</th>\n",
       "      <td>PG-13</td>\n",
       "      <td>119.42</td>\n",
       "    </tr>\n",
       "    <tr>\n",
       "      <th>4</th>\n",
       "      <td>R</td>\n",
       "      <td>117.26</td>\n",
       "    </tr>\n",
       "    <tr>\n",
       "      <th>5</th>\n",
       "      <td>TV-MA</td>\n",
       "      <td>111.00</td>\n",
       "    </tr>\n",
       "    <tr>\n",
       "      <th>6</th>\n",
       "      <td>TV-PG</td>\n",
       "      <td>40.00</td>\n",
       "    </tr>\n",
       "    <tr>\n",
       "      <th>7</th>\n",
       "      <td>Unrated</td>\n",
       "      <td>117.25</td>\n",
       "    </tr>\n",
       "  </tbody>\n",
       "</table>\n",
       "</div>"
      ],
      "text/plain": [
       "  certificate  average_duration\n",
       "0           G             93.14\n",
       "1   Not Rated            105.64\n",
       "2          PG            105.74\n",
       "3       PG-13            119.42\n",
       "4           R            117.26\n",
       "5       TV-MA            111.00\n",
       "6       TV-PG             40.00\n",
       "7     Unrated            117.25"
      ]
     },
     "execution_count": 176,
     "metadata": {},
     "output_type": "execute_result"
    }
   ],
   "source": [
    "avgDuration_certificate['average_duration'] = round(avgDuration_certificate['average_duration'], 2)\n",
    "avgDuration_certificate"
   ]
  },
  {
   "cell_type": "code",
   "execution_count": 177,
   "id": "5fc85ad4",
   "metadata": {},
   "outputs": [
    {
     "data": {
      "image/png": "[encoded data removed]",
      "text/plain": [
       "<Figure size 864x504 with 1 Axes>"
      ]
     },
     "metadata": {},
     "output_type": "display_data"
    }
   ],
   "source": [
    "plt.rcParams['figure.figsize'] = [12, 7]\n",
    "\n",
    "bar_plt = sns.barplot(data = avgDuration_certificate, x = 'certificate', y = 'average_duration',  saturation=0.60)\n",
    "\n",
    "for i in bar_plt.containers:\n",
    "    bar_plt.bar_label(i,)"
   ]
  },
  {
   "cell_type": "markdown",
   "id": "ce9d7c73",
   "metadata": {},
   "source": [
    "The above bar plot signifies the \"average duration\" of movies in each of the \"certificates\" present in the movie industry.\n",
    "\n",
    "We can find the below insights from the above graph:\n",
    "1. 'PG-13' certified movies have the largest average duration of length with a value of around 119.42.\n",
    "2. 'R' and 'Unrated' certified movies come next with average duration of about 117.26 and 117.25 respectively.\n",
    "3. 'TV-PG' movies have the lowest average duration of 40 amongst all the certificates."
   ]
  },
  {
   "cell_type": "markdown",
   "id": "6c27aefb",
   "metadata": {},
   "source": [
    " "
   ]
  },
  {
   "cell_type": "markdown",
   "id": "4af811a6",
   "metadata": {},
   "source": [
    "#### Q3. Genre split and histogram"
   ]
  },
  {
   "cell_type": "markdown",
   "id": "def77546",
   "metadata": {},
   "source": [
    "Splitting the 'genre' column of the data set to retrieve the different genres every movie belong to."
   ]
  },
  {
   "cell_type": "code",
   "execution_count": 178,
   "id": "71375076",
   "metadata": {},
   "outputs": [],
   "source": [
    "genre_movie_df = pd.DataFrame(movie_df['genre'].str.split('|', expand = False).explode().value_counts())\n",
    "# genre_movie_df = movie_df['genre'].str.split('|', expand = False).explode().value_counts()\n",
    "# movie_df['genre'].str.split('|', expand = False).explode().value_counts()"
   ]
  },
  {
   "cell_type": "code",
   "execution_count": 179,
   "id": "9fb63f4d",
   "metadata": {},
   "outputs": [
    {
     "data": {
      "text/html": [
       "<div>\n",
       "<style scoped>\n",
       "    .dataframe tbody tr th:only-of-type {\n",
       "        vertical-align: middle;\n",
       "    }\n",
       "\n",
       "    .dataframe tbody tr th {\n",
       "        vertical-align: top;\n",
       "    }\n",
       "\n",
       "    .dataframe thead th {\n",
       "        text-align: right;\n",
       "    }\n",
       "</style>\n",
       "<table border=\"1\" class=\"dataframe\">\n",
       "  <thead>\n",
       "    <tr style=\"text-align: right;\">\n",
       "      <th></th>\n",
       "      <th>genre</th>\n",
       "      <th>count</th>\n",
       "    </tr>\n",
       "  </thead>\n",
       "  <tbody>\n",
       "    <tr>\n",
       "      <th>0</th>\n",
       "      <td>Drama</td>\n",
       "      <td>694</td>\n",
       "    </tr>\n",
       "    <tr>\n",
       "      <th>1</th>\n",
       "      <td>Comedy</td>\n",
       "      <td>341</td>\n",
       "    </tr>\n",
       "    <tr>\n",
       "      <th>2</th>\n",
       "      <td>Adventure</td>\n",
       "      <td>330</td>\n",
       "    </tr>\n",
       "    <tr>\n",
       "      <th>3</th>\n",
       "      <td>Action</td>\n",
       "      <td>315</td>\n",
       "    </tr>\n",
       "    <tr>\n",
       "      <th>4</th>\n",
       "      <td>Romance</td>\n",
       "      <td>211</td>\n",
       "    </tr>\n",
       "    <tr>\n",
       "      <th>5</th>\n",
       "      <td>Crime</td>\n",
       "      <td>186</td>\n",
       "    </tr>\n",
       "    <tr>\n",
       "      <th>6</th>\n",
       "      <td>Thriller</td>\n",
       "      <td>163</td>\n",
       "    </tr>\n",
       "    <tr>\n",
       "      <th>7</th>\n",
       "      <td>Biography</td>\n",
       "      <td>134</td>\n",
       "    </tr>\n",
       "    <tr>\n",
       "      <th>8</th>\n",
       "      <td>Fantasy</td>\n",
       "      <td>126</td>\n",
       "    </tr>\n",
       "    <tr>\n",
       "      <th>9</th>\n",
       "      <td>Sci-Fi</td>\n",
       "      <td>125</td>\n",
       "    </tr>\n",
       "    <tr>\n",
       "      <th>10</th>\n",
       "      <td>Mystery</td>\n",
       "      <td>97</td>\n",
       "    </tr>\n",
       "    <tr>\n",
       "      <th>11</th>\n",
       "      <td>Animation</td>\n",
       "      <td>94</td>\n",
       "    </tr>\n",
       "    <tr>\n",
       "      <th>12</th>\n",
       "      <td>Family</td>\n",
       "      <td>84</td>\n",
       "    </tr>\n",
       "    <tr>\n",
       "      <th>13</th>\n",
       "      <td>Horror</td>\n",
       "      <td>77</td>\n",
       "    </tr>\n",
       "    <tr>\n",
       "      <th>14</th>\n",
       "      <td>History</td>\n",
       "      <td>61</td>\n",
       "    </tr>\n",
       "    <tr>\n",
       "      <th>15</th>\n",
       "      <td>Music</td>\n",
       "      <td>41</td>\n",
       "    </tr>\n",
       "    <tr>\n",
       "      <th>16</th>\n",
       "      <td>War</td>\n",
       "      <td>30</td>\n",
       "    </tr>\n",
       "    <tr>\n",
       "      <th>17</th>\n",
       "      <td>Sport</td>\n",
       "      <td>26</td>\n",
       "    </tr>\n",
       "    <tr>\n",
       "      <th>18</th>\n",
       "      <td>Musical</td>\n",
       "      <td>19</td>\n",
       "    </tr>\n",
       "    <tr>\n",
       "      <th>19</th>\n",
       "      <td>Short</td>\n",
       "      <td>15</td>\n",
       "    </tr>\n",
       "    <tr>\n",
       "      <th>20</th>\n",
       "      <td>Documentary</td>\n",
       "      <td>11</td>\n",
       "    </tr>\n",
       "    <tr>\n",
       "      <th>21</th>\n",
       "      <td>Western</td>\n",
       "      <td>6</td>\n",
       "    </tr>\n",
       "    <tr>\n",
       "      <th>22</th>\n",
       "      <td>Histor</td>\n",
       "      <td>1</td>\n",
       "    </tr>\n",
       "  </tbody>\n",
       "</table>\n",
       "</div>"
      ],
      "text/plain": [
       "          genre  count\n",
       "0         Drama    694\n",
       "1        Comedy    341\n",
       "2     Adventure    330\n",
       "3        Action    315\n",
       "4       Romance    211\n",
       "5         Crime    186\n",
       "6      Thriller    163\n",
       "7     Biography    134\n",
       "8       Fantasy    126\n",
       "9        Sci-Fi    125\n",
       "10      Mystery     97\n",
       "11    Animation     94\n",
       "12       Family     84\n",
       "13       Horror     77\n",
       "14      History     61\n",
       "15        Music     41\n",
       "16          War     30\n",
       "17        Sport     26\n",
       "18      Musical     19\n",
       "19        Short     15\n",
       "20  Documentary     11\n",
       "21      Western      6\n",
       "22       Histor      1"
      ]
     },
     "execution_count": 179,
     "metadata": {},
     "output_type": "execute_result"
    }
   ],
   "source": [
    "genre_movie_df = genre_movie_df.reset_index()\n",
    "\n",
    "genre_movie_df = genre_movie_df.rename(columns={'index':'genre', 'genre':'count'})\n",
    "genre_movie_df"
   ]
  },
  {
   "cell_type": "code",
   "execution_count": 180,
   "id": "18413f90",
   "metadata": {},
   "outputs": [
    {
     "data": {
      "image/png": "[encoded data removed]",
      "text/plain": [
       "<Figure size 1080x432 with 1 Axes>"
      ]
     },
     "metadata": {},
     "output_type": "display_data"
    }
   ],
   "source": [
    "plt.rcParams['figure.figsize'] = [15, 6]\n",
    "\n",
    "hist_plot = sns.barplot(data = genre_movie_df, x = 'genre', y = 'count')\n",
    "hist_plot.set_xticklabels(\n",
    "    hist_plot.get_xticklabels(),\n",
    "    rotation=45,\n",
    "    horizontalalignment='right'\n",
    ");"
   ]
  },
  {
   "cell_type": "markdown",
   "id": "8af9195c",
   "metadata": {},
   "source": [
    "Plotting a histogram to check the frequency distribution of genres in the data set.\n",
    "We can find the below observations from the histogram:\n",
    "\n",
    "1. 'Drama' genre has the highest frequency at around 694 which is more than twice the frequency of 2nd largest frequency of 341 belonging to 'Comedy' genre.\n",
    "2. 'Histor' has the lowest frequency of 1 only. It means only one movie in the data set belongs to 'Histor' genre."
   ]
  },
  {
   "cell_type": "markdown",
   "id": "c32ceea2",
   "metadata": {},
   "source": [
    "## Part 2: Model Building"
   ]
  },
  {
   "cell_type": "markdown",
   "id": "ba914749",
   "metadata": {},
   "source": [
    "#### Q1. Removing \"Oscar_Best_XXX_Won\" except target variable. Keeping all except these."
   ]
  },
  {
   "cell_type": "code",
   "execution_count": 181,
   "id": "8ce08071",
   "metadata": {},
   "outputs": [],
   "source": [
    "keep_columns = [\n",
    "    \"year\", \"movie\", \"movie_id\", \"certificate\", \"duration\", \"genre\", \"rate\", \"metascore\", \"synopsis\",\n",
    "    \"votes\", \"gross\", \"release_date\", \"user_reviews\", \"critic_reviews\", \"popularity\", \"awards_wins\", \n",
    "    \"awards_nominations\", \"Oscar_Best_Picture_won\"\n",
    "]\n",
    "\n",
    "movie_df = movie_df[keep_columns]"
   ]
  },
  {
   "cell_type": "code",
   "execution_count": 182,
   "id": "4f2ba82a",
   "metadata": {},
   "outputs": [
    {
     "data": {
      "text/html": [
       "<div>\n",
       "<style scoped>\n",
       "    .dataframe tbody tr th:only-of-type {\n",
       "        vertical-align: middle;\n",
       "    }\n",
       "\n",
       "    .dataframe tbody tr th {\n",
       "        vertical-align: top;\n",
       "    }\n",
       "\n",
       "    .dataframe thead th {\n",
       "        text-align: right;\n",
       "    }\n",
       "</style>\n",
       "<table border=\"1\" class=\"dataframe\">\n",
       "  <thead>\n",
       "    <tr style=\"text-align: right;\">\n",
       "      <th></th>\n",
       "      <th>year</th>\n",
       "      <th>movie</th>\n",
       "      <th>movie_id</th>\n",
       "      <th>certificate</th>\n",
       "      <th>duration</th>\n",
       "      <th>genre</th>\n",
       "      <th>rate</th>\n",
       "      <th>metascore</th>\n",
       "      <th>synopsis</th>\n",
       "      <th>votes</th>\n",
       "      <th>gross</th>\n",
       "      <th>release_date</th>\n",
       "      <th>user_reviews</th>\n",
       "      <th>critic_reviews</th>\n",
       "      <th>popularity</th>\n",
       "      <th>awards_wins</th>\n",
       "      <th>awards_nominations</th>\n",
       "      <th>Oscar_Best_Picture_won</th>\n",
       "    </tr>\n",
       "  </thead>\n",
       "  <tbody>\n",
       "    <tr>\n",
       "      <th>0</th>\n",
       "      <td>2001</td>\n",
       "      <td>Kate &amp; Leopold</td>\n",
       "      <td>tt0035423</td>\n",
       "      <td>PG-13</td>\n",
       "      <td>118</td>\n",
       "      <td>Comedy|Fantasy|Romance</td>\n",
       "      <td>6.4</td>\n",
       "      <td>44.0</td>\n",
       "      <td>An English Duke from 1876 is inadvertedly drag...</td>\n",
       "      <td>66660</td>\n",
       "      <td>47100000.0</td>\n",
       "      <td>2001-12-25</td>\n",
       "      <td>318.0</td>\n",
       "      <td>125.0</td>\n",
       "      <td>2363.0</td>\n",
       "      <td>1</td>\n",
       "      <td>4</td>\n",
       "      <td>No</td>\n",
       "    </tr>\n",
       "    <tr>\n",
       "      <th>1</th>\n",
       "      <td>2000</td>\n",
       "      <td>Chicken Run</td>\n",
       "      <td>tt0120630</td>\n",
       "      <td>G</td>\n",
       "      <td>84</td>\n",
       "      <td>Animation|Adventure|Comedy</td>\n",
       "      <td>7.0</td>\n",
       "      <td>88.0</td>\n",
       "      <td>When a cockerel apparently flies into a chicke...</td>\n",
       "      <td>144475</td>\n",
       "      <td>106790000.0</td>\n",
       "      <td>2000-06-23</td>\n",
       "      <td>361.0</td>\n",
       "      <td>186.0</td>\n",
       "      <td>2859.0</td>\n",
       "      <td>5</td>\n",
       "      <td>11</td>\n",
       "      <td>No</td>\n",
       "    </tr>\n",
       "    <tr>\n",
       "      <th>2</th>\n",
       "      <td>2005</td>\n",
       "      <td>Fantastic Four</td>\n",
       "      <td>tt0120667</td>\n",
       "      <td>PG-13</td>\n",
       "      <td>106</td>\n",
       "      <td>Action|Adventure|Family</td>\n",
       "      <td>5.7</td>\n",
       "      <td>40.0</td>\n",
       "      <td>A group of astronauts gain superpowers after a...</td>\n",
       "      <td>273203</td>\n",
       "      <td>154700000.0</td>\n",
       "      <td>2005-07-08</td>\n",
       "      <td>1008.0</td>\n",
       "      <td>278.0</td>\n",
       "      <td>1876.0</td>\n",
       "      <td>0</td>\n",
       "      <td>0</td>\n",
       "      <td>No</td>\n",
       "    </tr>\n",
       "  </tbody>\n",
       "</table>\n",
       "</div>"
      ],
      "text/plain": [
       "   year           movie   movie_id certificate  duration  \\\n",
       "0  2001  Kate & Leopold  tt0035423       PG-13       118   \n",
       "1  2000     Chicken Run  tt0120630           G        84   \n",
       "2  2005  Fantastic Four  tt0120667       PG-13       106   \n",
       "\n",
       "                        genre  rate  metascore  \\\n",
       "0      Comedy|Fantasy|Romance   6.4       44.0   \n",
       "1  Animation|Adventure|Comedy   7.0       88.0   \n",
       "2     Action|Adventure|Family   5.7       40.0   \n",
       "\n",
       "                                            synopsis   votes        gross  \\\n",
       "0  An English Duke from 1876 is inadvertedly drag...   66660   47100000.0   \n",
       "1  When a cockerel apparently flies into a chicke...  144475  106790000.0   \n",
       "2  A group of astronauts gain superpowers after a...  273203  154700000.0   \n",
       "\n",
       "  release_date  user_reviews  critic_reviews  popularity  awards_wins  \\\n",
       "0   2001-12-25         318.0           125.0      2363.0            1   \n",
       "1   2000-06-23         361.0           186.0      2859.0            5   \n",
       "2   2005-07-08        1008.0           278.0      1876.0            0   \n",
       "\n",
       "   awards_nominations Oscar_Best_Picture_won  \n",
       "0                   4                     No  \n",
       "1                  11                     No  \n",
       "2                   0                     No  "
      ]
     },
     "execution_count": 182,
     "metadata": {},
     "output_type": "execute_result"
    }
   ],
   "source": [
    "movie_df.head(3)"
   ]
  },
  {
   "cell_type": "markdown",
   "id": "151a203d",
   "metadata": {},
   "source": [
    "#### Q2. Convert Target Variable into Binary"
   ]
  },
  {
   "cell_type": "code",
   "execution_count": 183,
   "id": "d0ec8f56",
   "metadata": {
    "scrolled": true
   },
   "outputs": [
    {
     "data": {
      "text/plain": [
       "No     1217\n",
       "Yes      18\n",
       "Name: Oscar_Best_Picture_won, dtype: int64"
      ]
     },
     "execution_count": 183,
     "metadata": {},
     "output_type": "execute_result"
    }
   ],
   "source": [
    "movie_df['Oscar_Best_Picture_won'].value_counts()"
   ]
  },
  {
   "cell_type": "code",
   "execution_count": 139,
   "id": "3b540ea0",
   "metadata": {
    "scrolled": true
   },
   "outputs": [
    {
     "data": {
      "text/plain": [
       "0    1217\n",
       "1      18\n",
       "Name: Oscar_Best_Picture_won, dtype: int64"
      ]
     },
     "execution_count": 139,
     "metadata": {},
     "output_type": "execute_result"
    }
   ],
   "source": [
    "movie_df['Oscar_Best_Picture_won'] = np.where(movie_df['Oscar_Best_Picture_won'] == \"Yes\", 1, 0)\n",
    "movie_df['Oscar_Best_Picture_won'].value_counts()"
   ]
  },
  {
   "cell_type": "markdown",
   "id": "43413d97",
   "metadata": {},
   "source": [
    "Target Variable 'Oscar_Best_Picture_Won' has been converted with 0 and 1 values for 'No' and 'Yes' values resp."
   ]
  },
  {
   "cell_type": "markdown",
   "id": "80af1443",
   "metadata": {},
   "source": [
    " \n"
   ]
  },
  {
   "cell_type": "markdown",
   "id": "7d644e59",
   "metadata": {},
   "source": [
    "#### Q3. Remove columns with high cardinality"
   ]
  },
  {
   "cell_type": "code",
   "execution_count": 184,
   "id": "ba0cf797",
   "metadata": {},
   "outputs": [
    {
     "data": {
      "text/plain": [
       "Index(['movie', 'movie_id', 'synopsis', 'votes', 'gross', 'popularity'], dtype='object')"
      ]
     },
     "execution_count": 184,
     "metadata": {},
     "output_type": "execute_result"
    }
   ],
   "source": [
    "movie_df.columns[ movie_df.nunique() / len(movie_df) > 0.70]"
   ]
  },
  {
   "cell_type": "code",
   "execution_count": 185,
   "id": "e60113d1",
   "metadata": {},
   "outputs": [
    {
     "data": {
      "text/html": [
       "<div>\n",
       "<style scoped>\n",
       "    .dataframe tbody tr th:only-of-type {\n",
       "        vertical-align: middle;\n",
       "    }\n",
       "\n",
       "    .dataframe tbody tr th {\n",
       "        vertical-align: top;\n",
       "    }\n",
       "\n",
       "    .dataframe thead th {\n",
       "        text-align: right;\n",
       "    }\n",
       "</style>\n",
       "<table border=\"1\" class=\"dataframe\">\n",
       "  <thead>\n",
       "    <tr style=\"text-align: right;\">\n",
       "      <th></th>\n",
       "      <th>year</th>\n",
       "      <th>certificate</th>\n",
       "      <th>duration</th>\n",
       "      <th>genre</th>\n",
       "      <th>rate</th>\n",
       "      <th>metascore</th>\n",
       "      <th>release_date</th>\n",
       "      <th>user_reviews</th>\n",
       "      <th>critic_reviews</th>\n",
       "      <th>awards_wins</th>\n",
       "      <th>awards_nominations</th>\n",
       "      <th>Oscar_Best_Picture_won</th>\n",
       "    </tr>\n",
       "  </thead>\n",
       "  <tbody>\n",
       "    <tr>\n",
       "      <th>0</th>\n",
       "      <td>2001</td>\n",
       "      <td>PG-13</td>\n",
       "      <td>118</td>\n",
       "      <td>Comedy|Fantasy|Romance</td>\n",
       "      <td>6.4</td>\n",
       "      <td>44.0</td>\n",
       "      <td>2001-12-25</td>\n",
       "      <td>318.0</td>\n",
       "      <td>125.0</td>\n",
       "      <td>1</td>\n",
       "      <td>4</td>\n",
       "      <td>No</td>\n",
       "    </tr>\n",
       "    <tr>\n",
       "      <th>1</th>\n",
       "      <td>2000</td>\n",
       "      <td>G</td>\n",
       "      <td>84</td>\n",
       "      <td>Animation|Adventure|Comedy</td>\n",
       "      <td>7.0</td>\n",
       "      <td>88.0</td>\n",
       "      <td>2000-06-23</td>\n",
       "      <td>361.0</td>\n",
       "      <td>186.0</td>\n",
       "      <td>5</td>\n",
       "      <td>11</td>\n",
       "      <td>No</td>\n",
       "    </tr>\n",
       "    <tr>\n",
       "      <th>2</th>\n",
       "      <td>2005</td>\n",
       "      <td>PG-13</td>\n",
       "      <td>106</td>\n",
       "      <td>Action|Adventure|Family</td>\n",
       "      <td>5.7</td>\n",
       "      <td>40.0</td>\n",
       "      <td>2005-07-08</td>\n",
       "      <td>1008.0</td>\n",
       "      <td>278.0</td>\n",
       "      <td>0</td>\n",
       "      <td>0</td>\n",
       "      <td>No</td>\n",
       "    </tr>\n",
       "  </tbody>\n",
       "</table>\n",
       "</div>"
      ],
      "text/plain": [
       "   year certificate  duration                       genre  rate  metascore  \\\n",
       "0  2001       PG-13       118      Comedy|Fantasy|Romance   6.4       44.0   \n",
       "1  2000           G        84  Animation|Adventure|Comedy   7.0       88.0   \n",
       "2  2005       PG-13       106     Action|Adventure|Family   5.7       40.0   \n",
       "\n",
       "  release_date  user_reviews  critic_reviews  awards_wins  awards_nominations  \\\n",
       "0   2001-12-25         318.0           125.0            1                   4   \n",
       "1   2000-06-23         361.0           186.0            5                  11   \n",
       "2   2005-07-08        1008.0           278.0            0                   0   \n",
       "\n",
       "  Oscar_Best_Picture_won  \n",
       "0                     No  \n",
       "1                     No  \n",
       "2                     No  "
      ]
     },
     "execution_count": 185,
     "metadata": {},
     "output_type": "execute_result"
    }
   ],
   "source": [
    "movie_df_mod = movie_df.drop(['movie', 'movie_id', 'synopsis', 'votes', 'gross', 'popularity'], axis = 1)\n",
    "movie_df_mod.head(3)"
   ]
  },
  {
   "cell_type": "markdown",
   "id": "3fedda8a",
   "metadata": {},
   "source": [
    "Features with high cardianlity (more than 70%) like 'movie', 'movie_id', 'synopsis', 'votes', 'gross', 'popularity' have been removed from the data set."
   ]
  },
  {
   "cell_type": "markdown",
   "id": "127357b8",
   "metadata": {},
   "source": [
    " "
   ]
  },
  {
   "cell_type": "markdown",
   "id": "58d8333b",
   "metadata": {},
   "source": [
    "#### Q4. Test-Train Split"
   ]
  },
  {
   "cell_type": "code",
   "execution_count": 186,
   "id": "5321820b",
   "metadata": {},
   "outputs": [],
   "source": [
    "movie_df_mod['release_date'] = pd.to_datetime(movie_df_mod['release_date'])"
   ]
  },
  {
   "cell_type": "code",
   "execution_count": 187,
   "id": "e8da4f3e",
   "metadata": {},
   "outputs": [],
   "source": [
    "movie_df_mod['release_year'] = movie_df_mod['release_date'].dt.year"
   ]
  },
  {
   "cell_type": "markdown",
   "id": "9c47e058",
   "metadata": {},
   "source": [
    "Release Date has been used to extract the 'Year' of the movie."
   ]
  },
  {
   "cell_type": "code",
   "execution_count": 188,
   "id": "005c1d19",
   "metadata": {},
   "outputs": [],
   "source": [
    "movie_df_mod = movie_df_mod.drop(['year', 'release_date', 'genre', 'certificate'], axis = 1)"
   ]
  },
  {
   "cell_type": "code",
   "execution_count": 189,
   "id": "a112a7d2",
   "metadata": {
    "scrolled": true
   },
   "outputs": [
    {
     "data": {
      "text/html": [
       "<div>\n",
       "<style scoped>\n",
       "    .dataframe tbody tr th:only-of-type {\n",
       "        vertical-align: middle;\n",
       "    }\n",
       "\n",
       "    .dataframe tbody tr th {\n",
       "        vertical-align: top;\n",
       "    }\n",
       "\n",
       "    .dataframe thead th {\n",
       "        text-align: right;\n",
       "    }\n",
       "</style>\n",
       "<table border=\"1\" class=\"dataframe\">\n",
       "  <thead>\n",
       "    <tr style=\"text-align: right;\">\n",
       "      <th></th>\n",
       "      <th>duration</th>\n",
       "      <th>rate</th>\n",
       "      <th>metascore</th>\n",
       "      <th>user_reviews</th>\n",
       "      <th>critic_reviews</th>\n",
       "      <th>awards_wins</th>\n",
       "      <th>awards_nominations</th>\n",
       "      <th>Oscar_Best_Picture_won</th>\n",
       "      <th>release_year</th>\n",
       "    </tr>\n",
       "  </thead>\n",
       "  <tbody>\n",
       "    <tr>\n",
       "      <th>0</th>\n",
       "      <td>118</td>\n",
       "      <td>6.4</td>\n",
       "      <td>44.0</td>\n",
       "      <td>318.0</td>\n",
       "      <td>125.0</td>\n",
       "      <td>1</td>\n",
       "      <td>4</td>\n",
       "      <td>No</td>\n",
       "      <td>2001.0</td>\n",
       "    </tr>\n",
       "    <tr>\n",
       "      <th>1</th>\n",
       "      <td>84</td>\n",
       "      <td>7.0</td>\n",
       "      <td>88.0</td>\n",
       "      <td>361.0</td>\n",
       "      <td>186.0</td>\n",
       "      <td>5</td>\n",
       "      <td>11</td>\n",
       "      <td>No</td>\n",
       "      <td>2000.0</td>\n",
       "    </tr>\n",
       "    <tr>\n",
       "      <th>2</th>\n",
       "      <td>106</td>\n",
       "      <td>5.7</td>\n",
       "      <td>40.0</td>\n",
       "      <td>1008.0</td>\n",
       "      <td>278.0</td>\n",
       "      <td>0</td>\n",
       "      <td>0</td>\n",
       "      <td>No</td>\n",
       "      <td>2005.0</td>\n",
       "    </tr>\n",
       "  </tbody>\n",
       "</table>\n",
       "</div>"
      ],
      "text/plain": [
       "   duration  rate  metascore  user_reviews  critic_reviews  awards_wins  \\\n",
       "0       118   6.4       44.0         318.0           125.0            1   \n",
       "1        84   7.0       88.0         361.0           186.0            5   \n",
       "2       106   5.7       40.0        1008.0           278.0            0   \n",
       "\n",
       "   awards_nominations Oscar_Best_Picture_won  release_year  \n",
       "0                   4                     No        2001.0  \n",
       "1                  11                     No        2000.0  \n",
       "2                   0                     No        2005.0  "
      ]
     },
     "execution_count": 189,
     "metadata": {},
     "output_type": "execute_result"
    }
   ],
   "source": [
    "movie_df_mod.head(3)"
   ]
  },
  {
   "cell_type": "markdown",
   "id": "ff0f7983",
   "metadata": {},
   "source": [
    "Checking NA values in the columns"
   ]
  },
  {
   "cell_type": "code",
   "execution_count": 190,
   "id": "bd8ddea0",
   "metadata": {},
   "outputs": [
    {
     "data": {
      "text/plain": [
       "duration                   0\n",
       "rate                       0\n",
       "metascore                 29\n",
       "user_reviews              14\n",
       "critic_reviews            10\n",
       "awards_wins                0\n",
       "awards_nominations         0\n",
       "Oscar_Best_Picture_won     0\n",
       "release_year              30\n",
       "dtype: int64"
      ]
     },
     "execution_count": 190,
     "metadata": {},
     "output_type": "execute_result"
    }
   ],
   "source": [
    "movie_df_mod.isna().sum()"
   ]
  },
  {
   "cell_type": "markdown",
   "id": "cde7af4c",
   "metadata": {},
   "source": [
    "Dropping the NA values."
   ]
  },
  {
   "cell_type": "code",
   "execution_count": 191,
   "id": "caad26f2",
   "metadata": {},
   "outputs": [
    {
     "data": {
      "text/plain": [
       "duration                  0\n",
       "rate                      0\n",
       "metascore                 0\n",
       "user_reviews              0\n",
       "critic_reviews            0\n",
       "awards_wins               0\n",
       "awards_nominations        0\n",
       "Oscar_Best_Picture_won    0\n",
       "release_year              0\n",
       "dtype: int64"
      ]
     },
     "execution_count": 191,
     "metadata": {},
     "output_type": "execute_result"
    }
   ],
   "source": [
    "movie_df_mod = movie_df_mod.dropna()\n",
    "movie_df_mod.isna().sum()"
   ]
  },
  {
   "cell_type": "code",
   "execution_count": 192,
   "id": "82106db5",
   "metadata": {},
   "outputs": [],
   "source": [
    "train = movie_df_mod[movie_df_mod['release_year'] <= 2017]\n",
    "test = movie_df_mod[movie_df_mod['release_year'] > 2017]"
   ]
  },
  {
   "cell_type": "code",
   "execution_count": 193,
   "id": "480dc4e8",
   "metadata": {},
   "outputs": [],
   "source": [
    "X_train = train.drop(['Oscar_Best_Picture_won'], axis = 1)\n",
    "Y_train = train['Oscar_Best_Picture_won']\n",
    "\n",
    "X_test = test.drop(['Oscar_Best_Picture_won'], axis = 1)\n",
    "Y_test = test['Oscar_Best_Picture_won']"
   ]
  },
  {
   "cell_type": "markdown",
   "id": "ba6b7321",
   "metadata": {},
   "source": [
    "#### Q5 and Q6. Tree Based Model and Prediction --> Decision Tree Classifier"
   ]
  },
  {
   "cell_type": "markdown",
   "id": "db1eb603",
   "metadata": {},
   "source": [
    "Converting 'release_date' into datetime field."
   ]
  },
  {
   "cell_type": "code",
   "execution_count": 196,
   "id": "d24351e7",
   "metadata": {},
   "outputs": [],
   "source": [
    "## Decision Tree Classifier\n",
    "clf = DecisionTreeClassifier(criterion='entropy', max_depth = 5, min_samples_split = 2, random_state = 0)\n",
    "clf.fit(X_train, Y_train)\n",
    "test_pred_decision_tree = clf.predict(X_test)"
   ]
  },
  {
   "cell_type": "code",
   "execution_count": 197,
   "id": "42a8aef2",
   "metadata": {},
   "outputs": [],
   "source": [
    "#get the confusion matrix\n",
    "# confusion_matrix = confusion_matrix(Y_test, test_pred_decision_tree)\n",
    "\n",
    "#turn this into a dataframe\n",
    "# matrix_df = pd.DataFrame(confusion_matrix)"
   ]
  },
  {
   "cell_type": "code",
   "execution_count": 198,
   "id": "b1913724",
   "metadata": {
    "scrolled": true
   },
   "outputs": [
    {
     "data": {
      "text/plain": [
       "0.9666666666666667"
      ]
     },
     "execution_count": 198,
     "metadata": {},
     "output_type": "execute_result"
    }
   ],
   "source": [
    "accuracy_score(Y_test, test_pred_decision_tree)"
   ]
  },
  {
   "cell_type": "markdown",
   "id": "3d63a838",
   "metadata": {},
   "source": [
    "**Observation** - The accuracy of the training and the test set is almost similar, around 96%, indicating that the model is not over fitting."
   ]
  },
  {
   "cell_type": "code",
   "execution_count": 201,
   "id": "93890bbf",
   "metadata": {},
   "outputs": [],
   "source": [
    "labels = movie_df_mod['Oscar_Best_Picture_won']"
   ]
  },
  {
   "cell_type": "code",
   "execution_count": 202,
   "id": "b9f6985b",
   "metadata": {},
   "outputs": [
    {
     "data": {
      "text/html": [
       "<div>\n",
       "<style scoped>\n",
       "    .dataframe tbody tr th:only-of-type {\n",
       "        vertical-align: middle;\n",
       "    }\n",
       "\n",
       "    .dataframe tbody tr th {\n",
       "        vertical-align: top;\n",
       "    }\n",
       "\n",
       "    .dataframe thead th {\n",
       "        text-align: right;\n",
       "    }\n",
       "</style>\n",
       "<table border=\"1\" class=\"dataframe\">\n",
       "  <thead>\n",
       "    <tr style=\"text-align: right;\">\n",
       "      <th></th>\n",
       "      <th>precision</th>\n",
       "    </tr>\n",
       "  </thead>\n",
       "  <tbody>\n",
       "    <tr>\n",
       "      <th>No</th>\n",
       "      <td>1.0</td>\n",
       "    </tr>\n",
       "    <tr>\n",
       "      <th>Yes</th>\n",
       "      <td>0.0</td>\n",
       "    </tr>\n",
       "  </tbody>\n",
       "</table>\n",
       "</div>"
      ],
      "text/plain": [
       "     precision\n",
       "No         1.0\n",
       "Yes        0.0"
      ]
     },
     "execution_count": 202,
     "metadata": {},
     "output_type": "execute_result"
    }
   ],
   "source": [
    "#get the precision score\n",
    "precision = precision_score(Y_test,\n",
    "                            test_pred_decision_tree, \n",
    "                            average=None)\n",
    "\n",
    "#turn it into a dataframe\n",
    "precision_results = pd.DataFrame(precision, index=labels.unique())\n",
    "\n",
    "#rename the results column\n",
    "precision_results.rename(columns={0:'precision'}, inplace =True)\n",
    "precision_results"
   ]
  },
  {
   "cell_type": "code",
   "execution_count": 203,
   "id": "f4205f63",
   "metadata": {},
   "outputs": [
    {
     "name": "stderr",
     "output_type": "stream",
     "text": [
      "/Users/HarshitGaur/opt/anaconda3/lib/python3.8/site-packages/sklearn/metrics/_classification.py:1248: UndefinedMetricWarning: Recall is ill-defined and being set to 0.0 in labels with no true samples. Use `zero_division` parameter to control this behavior.\n",
      "  _warn_prf(average, modifier, msg_start, len(result))\n"
     ]
    },
    {
     "data": {
      "text/html": [
       "<div>\n",
       "<style scoped>\n",
       "    .dataframe tbody tr th:only-of-type {\n",
       "        vertical-align: middle;\n",
       "    }\n",
       "\n",
       "    .dataframe tbody tr th {\n",
       "        vertical-align: top;\n",
       "    }\n",
       "\n",
       "    .dataframe thead th {\n",
       "        text-align: right;\n",
       "    }\n",
       "</style>\n",
       "<table border=\"1\" class=\"dataframe\">\n",
       "  <thead>\n",
       "    <tr style=\"text-align: right;\">\n",
       "      <th></th>\n",
       "      <th>Recall</th>\n",
       "    </tr>\n",
       "  </thead>\n",
       "  <tbody>\n",
       "    <tr>\n",
       "      <th>No</th>\n",
       "      <td>0.966667</td>\n",
       "    </tr>\n",
       "    <tr>\n",
       "      <th>Yes</th>\n",
       "      <td>0.000000</td>\n",
       "    </tr>\n",
       "  </tbody>\n",
       "</table>\n",
       "</div>"
      ],
      "text/plain": [
       "       Recall\n",
       "No   0.966667\n",
       "Yes  0.000000"
      ]
     },
     "execution_count": 203,
     "metadata": {},
     "output_type": "execute_result"
    }
   ],
   "source": [
    "recall = recall_score(Y_test, test_pred_decision_tree, \n",
    "                              average =None)\n",
    "recall_results = pd.DataFrame(recall, index= labels.unique())\n",
    "recall_results.rename(columns ={0:'Recall'}, inplace =True)\n",
    "recall_results"
   ]
  },
  {
   "cell_type": "code",
   "execution_count": 204,
   "id": "b0e8dfb3",
   "metadata": {},
   "outputs": [
    {
     "data": {
      "text/html": [
       "<div>\n",
       "<style scoped>\n",
       "    .dataframe tbody tr th:only-of-type {\n",
       "        vertical-align: middle;\n",
       "    }\n",
       "\n",
       "    .dataframe tbody tr th {\n",
       "        vertical-align: top;\n",
       "    }\n",
       "\n",
       "    .dataframe thead th {\n",
       "        text-align: right;\n",
       "    }\n",
       "</style>\n",
       "<table border=\"1\" class=\"dataframe\">\n",
       "  <thead>\n",
       "    <tr style=\"text-align: right;\">\n",
       "      <th></th>\n",
       "      <th>f1</th>\n",
       "    </tr>\n",
       "  </thead>\n",
       "  <tbody>\n",
       "    <tr>\n",
       "      <th>No</th>\n",
       "      <td>0.983051</td>\n",
       "    </tr>\n",
       "    <tr>\n",
       "      <th>Yes</th>\n",
       "      <td>0.000000</td>\n",
       "    </tr>\n",
       "  </tbody>\n",
       "</table>\n",
       "</div>"
      ],
      "text/plain": [
       "           f1\n",
       "No   0.983051\n",
       "Yes  0.000000"
      ]
     },
     "execution_count": 204,
     "metadata": {},
     "output_type": "execute_result"
    }
   ],
   "source": [
    "f1 = f1_score(Y_test, test_pred_decision_tree, average=None)\n",
    "f1_results = pd.DataFrame(f1, index=labels.unique())\n",
    "f1_results.rename(columns={0:'f1'}, inplace=True)\n",
    "f1_results"
   ]
  }
 ],
 "metadata": {
  "kernelspec": {
   "display_name": "Python 3 (ipykernel)",
   "language": "python",
   "name": "python3"
  },
  "language_info": {
   "codemirror_mode": {
    "name": "ipython",
    "version": 3
   },
   "file_extension": ".py",
   "mimetype": "text/x-python",
   "name": "python",
   "nbconvert_exporter": "python",
   "pygments_lexer": "ipython3",
   "version": "3.8.11"
  }
 },
 "nbformat": 4,
 "nbformat_minor": 5
}
